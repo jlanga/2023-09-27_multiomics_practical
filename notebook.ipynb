{
 "cells": [
  {
   "cell_type": "markdown",
   "id": "1a5f40b4-9e8a-41ff-9e1c-b59cc49f50e6",
   "metadata": {},
   "source": [
    "# 1. Jupyter notebooks"
   ]
  },
  {
   "cell_type": "markdown",
   "id": "bb86cf98-8dd7-4589-86f6-4f1e858d4310",
   "metadata": {},
   "source": [
    "This is a Jupyter notebook!\n",
    "\n",
    "It can run bash commands!:"
   ]
  },
  {
   "cell_type": "code",
   "execution_count": null,
   "id": "c04b7dff-9fe1-4200-96c9-1f7db89eb603",
   "metadata": {
    "tags": []
   },
   "outputs": [],
   "source": [
    "ls -1"
   ]
  },
  {
   "cell_type": "code",
   "execution_count": null,
   "id": "e22dd170-fca1-4c84-a8e3-75443b9911cd",
   "metadata": {
    "tags": []
   },
   "outputs": [],
   "source": [
    "mkdir this_is_a_folder"
   ]
  },
  {
   "cell_type": "code",
   "execution_count": null,
   "id": "60dbfed1-8619-47eb-906d-27bea19dd855",
   "metadata": {
    "tags": []
   },
   "outputs": [],
   "source": [
    "rmdir this_is_a_folder"
   ]
  },
  {
   "cell_type": "markdown",
   "id": "5c7a4ea6-b1a3-40f3-a540-691d4ceabf92",
   "metadata": {},
   "source": [
    "We have conda installed in it!:"
   ]
  },
  {
   "cell_type": "code",
   "execution_count": null,
   "id": "ba42bd07-51cf-40d2-bd2d-a8b75f2a8c92",
   "metadata": {
    "tags": []
   },
   "outputs": [],
   "source": [
    "conda info"
   ]
  },
  {
   "cell_type": "markdown",
   "id": "bcff2d2b-448f-4db2-a451-2beb5c3510cf",
   "metadata": {},
   "source": [
    "We have also mamba!:"
   ]
  },
  {
   "cell_type": "code",
   "execution_count": null,
   "id": "ddca0299-ad8a-4662-ba68-cfd3dc816b57",
   "metadata": {
    "tags": []
   },
   "outputs": [],
   "source": [
    "mamba info"
   ]
  },
  {
   "cell_type": "markdown",
   "id": "6b013690-80e9-4cf4-8e83-ee3faa6a4483",
   "metadata": {},
   "source": [
    "Also snakemake "
   ]
  },
  {
   "cell_type": "code",
   "execution_count": null,
   "id": "74215db3-d0b1-43dd-95ee-3db47d05ed1a",
   "metadata": {
    "scrolled": true,
    "tags": []
   },
   "outputs": [],
   "source": [
    "snakemake --help"
   ]
  },
  {
   "cell_type": "markdown",
   "id": "e7428fea-1c95-48fd-a850-4627eb2a6b04",
   "metadata": {},
   "source": [
    "And also git!:"
   ]
  },
  {
   "cell_type": "code",
   "execution_count": null,
   "id": "b6c45008-b543-48c7-b308-d596a7f39a00",
   "metadata": {
    "tags": []
   },
   "outputs": [],
   "source": [
    "git status"
   ]
  },
  {
   "cell_type": "markdown",
   "id": "694b9998-886e-4ed9-a5f0-c179b9be11e7",
   "metadata": {},
   "source": [
    "Let's download the pipeline used for the laser microdisection work package"
   ]
  },
  {
   "cell_type": "code",
   "execution_count": null,
   "id": "b74b5133-2cba-4ff9-aefc-553a540c4478",
   "metadata": {
    "tags": []
   },
   "outputs": [],
   "source": [
    "git clone https://github.com/3d-omics/bioinfo_detection_limit_test"
   ]
  },
  {
   "cell_type": "markdown",
   "id": "7fe9241c-77b5-4e07-8583-73a8e904186f",
   "metadata": {},
   "source": [
    "Move into the folder"
   ]
  },
  {
   "cell_type": "code",
   "execution_count": null,
   "id": "73e3bd18-7629-4f9e-bff6-1946bce95ff6",
   "metadata": {
    "tags": []
   },
   "outputs": [],
   "source": [
    "cd bioinfo_detection_limit_test"
   ]
  },
  {
   "cell_type": "markdown",
   "id": "903849ae-9927-472e-b6d6-5ff3dcda341d",
   "metadata": {},
   "source": [
    "# 2 The laser microdisection pipeline\n",
    "\n",
    "This is the pipeline used in WP4 for microdisection testing:"
   ]
  },
  {
   "cell_type": "markdown",
   "id": "3fb0b602-4514-482f-a7c4-2c2377cf56f8",
   "metadata": {},
   "source": [
    "![pipeline_complex](assets/img/rulegraph_complex.svg)"
   ]
  },
  {
   "cell_type": "markdown",
   "id": "01b2ea29-9048-4204-8111-f1e10551423b",
   "metadata": {},
   "source": [
    "Simplified:"
   ]
  },
  {
   "cell_type": "markdown",
   "id": "c50f758f-a002-4b66-82d0-565f2f31c59d",
   "metadata": {
    "tags": []
   },
   "source": [
    "![rulegraph](assets/img/rulegraph.svg)"
   ]
  },
  {
   "cell_type": "markdown",
   "id": "1a65172f-ea12-42b3-aa72-0d0dad27db17",
   "metadata": {},
   "source": [
    "In short:\n",
    "- Reads are trimmed with `fastp` (adaptors, short, LQ reads).\n",
    "- They are mapped to the hosts (human + chicken) and then the remainder to the MAGs with `bowtie2`.\n",
    "- Count tables are computed with `coverm`.\n",
    "- Reference-free rarefaction curves with `nonpareil`.\n",
    "- Taxonomic assignment of every read with `kraken2`."
   ]
  },
  {
   "cell_type": "markdown",
   "id": "152131d7-7bf4-4164-8b1b-293b7e7a09f4",
   "metadata": {},
   "source": [
    "Get inside the repository:"
   ]
  },
  {
   "cell_type": "code",
   "execution_count": null,
   "id": "1f316dbe-9e3e-4f16-b8d7-7fa16c422752",
   "metadata": {
    "tags": []
   },
   "outputs": [],
   "source": [
    "cd bioinfo_detection_limit_test"
   ]
  },
  {
   "cell_type": "markdown",
   "id": "37f2cf92-14c5-47f8-8751-446c729b3516",
   "metadata": {},
   "source": [
    "# 3. Tell Snakemake to download the necesary tools (5 min):"
   ]
  },
  {
   "cell_type": "markdown",
   "id": "c58ea704-6ff0-4371-bdf7-4194dbdb75b8",
   "metadata": {},
   "source": [
    "- `--use-conda`: use the conda package manager to download and manage software.\n",
    "- `--conda-frontend mamba`: use mamba instead of conda, which is faster.\n",
    "- `--conda-create-envs-only`: just download the software. Do not execute the pipeline.\n",
    "- `--jobs 1`: use only one CPU."
   ]
  },
  {
   "cell_type": "code",
   "execution_count": null,
   "id": "7c805eca-a146-438a-b4d6-e3bd07714466",
   "metadata": {
    "tags": []
   },
   "outputs": [],
   "source": [
    "snakemake \\\n",
    "    --use-conda \\\n",
    "    --conda-frontend mamba \\\n",
    "    --conda-create-envs-only \\\n",
    "    --jobs 1"
   ]
  },
  {
   "cell_type": "markdown",
   "id": "5c0ad759-e82e-451d-b633-ecf05c9cd1e7",
   "metadata": {
    "tags": []
   },
   "source": [
    "# 4. Repository contents"
   ]
  },
  {
   "cell_type": "markdown",
   "id": "5f06e430-56ac-4d55-8494-36e858dbea99",
   "metadata": {},
   "source": [
    "There should be 3 folders (left panel or `ls -1`):\n",
    "- `config`: with information about  the reads, references and parameters\n",
    "- `resources`: where to put the input databases, FASTQ files, references, etc.\n",
    "- `workflow`: the code. Enter at your own risk."
   ]
  },
  {
   "cell_type": "markdown",
   "id": "7fdd8e54-1647-4ed3-983e-3f3397222afd",
   "metadata": {
    "jupyter": {
     "outputs_hidden": true
    },
    "tags": []
   },
   "source": [
    "# 5. Look at the configuration files"
   ]
  },
  {
   "cell_type": "markdown",
   "id": "1302c7a9-a692-4492-86f9-c598f009616e",
   "metadata": {},
   "source": [
    "## 5.1 Samples\n",
    "- Sample names\n",
    "- Library ID\n",
    "- Library type\n",
    "- Paths to forward and reverse FASTQ\n",
    "- Adapters"
   ]
  },
  {
   "cell_type": "code",
   "execution_count": null,
   "id": "98900aa8-6a7f-4572-ba61-3163ca79b4b7",
   "metadata": {
    "tags": []
   },
   "outputs": [],
   "source": [
    "cat config/samples.tsv"
   ]
  },
  {
   "cell_type": "markdown",
   "id": "eb00aad5-4979-4f38-98e9-b93cf0cf79fb",
   "metadata": {
    "tags": []
   },
   "source": [
    "## 5.2 Features\n",
    "  - Hosts: names and where to find them\n",
    "  - MAG catalogues: names and where to find them\n",
    "  - Additional databases"
   ]
  },
  {
   "cell_type": "code",
   "execution_count": null,
   "id": "dfffea65-2d39-4415-8005-eea2ece17f9a",
   "metadata": {
    "tags": []
   },
   "outputs": [],
   "source": [
    "cat config/features.yml"
   ]
  },
  {
   "cell_type": "markdown",
   "id": "8f8a23b5-daba-469e-808e-8bb16a08939f",
   "metadata": {
    "tags": []
   },
   "source": [
    "## 5.3 Parameters"
   ]
  },
  {
   "cell_type": "code",
   "execution_count": null,
   "id": "3502120e-5586-43cc-98d7-b2a21100ec23",
   "metadata": {
    "tags": []
   },
   "outputs": [],
   "source": [
    "cat config/params.yml"
   ]
  },
  {
   "cell_type": "markdown",
   "id": "a605d654-a6a1-4798-87cf-32f0babc0dd2",
   "metadata": {},
   "source": [
    "# 6. Check the pipeline with `snakemake -n -p`"
   ]
  },
  {
   "cell_type": "markdown",
   "id": "c04fb814-3a59-415f-ab69-3ed384d34256",
   "metadata": {
    "tags": []
   },
   "source": [
    "- `-n` means dry-run\n",
    "- `-p` means print the commands"
   ]
  },
  {
   "cell_type": "code",
   "execution_count": null,
   "id": "930fbc5b-62ac-4519-8cb9-135a0811000d",
   "metadata": {
    "tags": []
   },
   "outputs": [],
   "source": [
    "snakemake -n -p"
   ]
  },
  {
   "cell_type": "markdown",
   "id": "92e29622-e31a-4aba-9633-8eccd77ea946",
   "metadata": {},
   "source": [
    "# 7. Run it!"
   ]
  },
  {
   "cell_type": "code",
   "execution_count": null,
   "id": "8b2c3869-d00b-459e-851c-fcf27086e56c",
   "metadata": {
    "tags": []
   },
   "outputs": [],
   "source": [
    "snakemake --use-conda -j 4"
   ]
  },
  {
   "cell_type": "markdown",
   "id": "aaa700c6-9e36-4acf-b558-79c76ca45c70",
   "metadata": {
    "tags": []
   },
   "source": [
    "# 8. Results\n",
    "\n",
    "Trimmed reads, mappings, count tables, etc are stored in the `results` folder"
   ]
  },
  {
   "cell_type": "code",
   "execution_count": null,
   "id": "6b46e079-3155-4223-946d-7537004e6858",
   "metadata": {
    "tags": []
   },
   "outputs": [],
   "source": [
    "tree -L 2 results"
   ]
  },
  {
   "cell_type": "markdown",
   "id": "21236e3f-0a30-48e5-b21b-98de15814699",
   "metadata": {
    "tags": []
   },
   "source": [
    "# Reports"
   ]
  },
  {
   "cell_type": "markdown",
   "id": "187498e5-a362-4cbb-8eae-8e32c2a24c49",
   "metadata": {},
   "source": [
    "The pipeline generates lots of reports for every step of the pipeline and every sample used. They are under the `reports` folder.\n",
    "\n",
    "Jupyter can't render properly the reports, so you will have to download them (right click) and open in your browser."
   ]
  },
  {
   "cell_type": "code",
   "execution_count": null,
   "id": "684661b5-9adb-4a75-99c6-a574adc0c967",
   "metadata": {},
   "outputs": [],
   "source": []
  },
  {
   "cell_type": "markdown",
   "id": "4e8207e9-f61a-4425-ac4e-b40d07b50f5a",
   "metadata": {},
   "source": [
    "# Snakemake is regenerative"
   ]
  },
  {
   "cell_type": "markdown",
   "id": "853456b9-ae4a-42a1-81ed-ace98d9b69d3",
   "metadata": {},
   "source": [
    "- Comment / delete the last sample in `config/samples.tsv`"
   ]
  },
  {
   "cell_type": "code",
   "execution_count": null,
   "id": "1ff0fcc1-1efb-4ba0-98b5-a7ecbb218ff7",
   "metadata": {
    "tags": []
   },
   "outputs": [],
   "source": [
    "snakemake --use-conda --conda-frontend mamba -j 4"
   ]
  },
  {
   "cell_type": "markdown",
   "id": "4a57ec88-7ac2-4232-a71e-320c1353c1d9",
   "metadata": {},
   "source": [
    "- Remove a reference from the `config/features.tsv`"
   ]
  },
  {
   "cell_type": "code",
   "execution_count": null,
   "id": "97418bfd-6978-4486-b0b5-f4bdb8c23004",
   "metadata": {},
   "outputs": [],
   "source": [
    "snakemake --use-conda --conda-frontend mamba -j 4"
   ]
  },
  {
   "cell_type": "markdown",
   "id": "ce6e0525-21a4-491c-ac66-1870f8e014fd",
   "metadata": {},
   "source": [
    "- Change the required length to 50 bp"
   ]
  },
  {
   "cell_type": "code",
   "execution_count": null,
   "id": "43a32814-13a4-4029-ab20-0c4ff26cc559",
   "metadata": {},
   "outputs": [],
   "source": [
    "snakemake --use-conda --conda-frontend mamba -j 4"
   ]
  },
  {
   "cell_type": "markdown",
   "id": "68f5e136-f9a3-4838-8fa0-ba07cb0c6f01",
   "metadata": {},
   "source": [
    "# Play with the other pipelines:\n",
    "- [Host Genomics (GATK)](https://github.com/3d-omics/Bioinfo_Macro_Host_Genomics)\n",
    "- [Host Transcriptomics](https://github.com/3d-omics/Bioinfo_Macro_Host_Transcriptomics)\n",
    "- [Metatranscriptomics](https://github.com/3d-omics/Bioinfo_Macro_Microbial_Metatranscriptomics)\n",
    "- ~~[Metagenome Assembly](https://github.com/3d-omics/Bioinfo_Macro_Genome_Resolved_Metagenomics)~~ This one takes too much time"
   ]
  },
  {
   "cell_type": "markdown",
   "id": "eae650ed-b9e4-4671-a91e-bff794357326",
   "metadata": {},
   "source": [
    "## 0. Get out of the folder"
   ]
  },
  {
   "cell_type": "code",
   "execution_count": null,
   "id": "9a3c8dee-eae7-4fa9-88a4-fad36f0f59b8",
   "metadata": {
    "tags": []
   },
   "outputs": [],
   "source": [
    "cd"
   ]
  },
  {
   "cell_type": "markdown",
   "id": "61fe342e-2b1e-4290-ba59-d33a014a70d7",
   "metadata": {
    "tags": []
   },
   "source": [
    "## 1. Clone and enter the folder"
   ]
  },
  {
   "cell_type": "code",
   "execution_count": null,
   "id": "47358d22-a175-42b7-9e6d-db5235ae93f5",
   "metadata": {
    "tags": []
   },
   "outputs": [],
   "source": [
    "git clone [url_goes_here]\n",
    "cd [repo_name]"
   ]
  },
  {
   "cell_type": "markdown",
   "id": "af875c42-339e-47bb-a789-4a2ade7ed810",
   "metadata": {
    "tags": []
   },
   "source": [
    "## 2. Edit the config files\n",
    "- [x] samples.tsv\n",
    "- [ ] features.tsv\n",
    "- [ ] params.tsv"
   ]
  },
  {
   "cell_type": "markdown",
   "id": "61de1b99-d17c-4396-acc6-07beb380ce42",
   "metadata": {},
   "source": [
    "## 3. Download software"
   ]
  },
  {
   "cell_type": "code",
   "execution_count": null,
   "id": "82fb8269-34d1-44b5-a0b7-b3adf6554e8c",
   "metadata": {
    "scrolled": true,
    "tags": []
   },
   "outputs": [],
   "source": [
    "snakemake --use-conda --conda-frontend mamba --jobs 1"
   ]
  },
  {
   "cell_type": "markdown",
   "id": "248b8b3b-11a9-4aa0-ad8d-957509ebaa54",
   "metadata": {},
   "source": [
    "## 4. Test"
   ]
  },
  {
   "cell_type": "code",
   "execution_count": null,
   "id": "8fbe3580-d373-4d86-94f7-8fbf3d4198dc",
   "metadata": {},
   "outputs": [],
   "source": [
    "snakemake -n -p"
   ]
  },
  {
   "cell_type": "markdown",
   "id": "8aca658f-72d1-42bf-8c12-3cc796f165ab",
   "metadata": {
    "tags": []
   },
   "source": [
    "## 5. Run"
   ]
  },
  {
   "cell_type": "code",
   "execution_count": null,
   "id": "8192e5a9-5bc1-491f-a528-611fd27bbf43",
   "metadata": {},
   "outputs": [],
   "source": []
  },
  {
   "cell_type": "markdown",
   "id": "2a417b23-a3ca-4c8f-8c0d-b6aebde9d718",
   "metadata": {
    "tags": []
   },
   "source": [
    "## 6. Peek into the results"
   ]
  },
  {
   "cell_type": "code",
   "execution_count": null,
   "id": "260d9662-3f8e-41f2-bbbb-b6f20bae6173",
   "metadata": {},
   "outputs": [],
   "source": [
    "tree -"
   ]
  },
  {
   "cell_type": "markdown",
   "id": "70766e31-72e8-4ae2-bc8a-158bda832d87",
   "metadata": {},
   "source": [
    "## 7. Verify the reports"
   ]
  },
  {
   "cell_type": "code",
   "execution_count": null,
   "id": "24c16344-b153-4b9b-a985-7c28067bb065",
   "metadata": {},
   "outputs": [],
   "source": []
  }
 ],
 "metadata": {
  "kernelspec": {
   "display_name": "Bash",
   "language": "bash",
   "name": "bash"
  },
  "language_info": {
   "codemirror_mode": "shell",
   "file_extension": ".sh",
   "mimetype": "text/x-sh",
   "name": "bash"
  }
 },
 "nbformat": 4,
 "nbformat_minor": 5
}
